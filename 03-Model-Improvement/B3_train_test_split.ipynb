{
 "cells": [
  {
   "cell_type": "markdown",
   "id": "1c1b5356",
   "metadata": {},
   "source": [
    "### Separar datos en dos conjuntos\n",
    "\n",
    "El conjunto de validación constituye el 25 % de los datos fuente. Entonces, ¿cómo debemos extraerlo?\n",
    "\n",
    "En sklearn hay una función llamada train_test_split, con la que se puede separar cualquier conjunto de datos en dos: entrenamiento y prueba. Pero nosotros vamos a usar esta función para obtener un conjunto de validación y uno de entrenamiento.\n",
    "\n",
    "Importa train_test_split desde el módulo model_selection de scikit-learn:\n",
    "\n",
    "from sklearn.model_selection import train_test_split\n",
    "Antes de separar, necesitamos establecer dos parámetros:\n",
    "\n",
    "Nombre del dataset que vamos a separar.\n",
    "Tamaño del conjunto de validación (test_size). El tamaño se expresa con un decimal entre 0 y 1 que representa una fracción del dataset fuente. En este caso, tenemos test_size=0.25 porque queremos trabajar con el 25 % del conjunto fuente.\n",
    "La función train_test_split() devuelve dos conjuntos de datos: entrenamiento y validación.\n",
    "\n",
    "df_train, df_valid = train_test_split(df, test_size=0.25, random_state=12345)\n",
    "Nota: podemos asignar cualquier valor a random_state excepto None.\n"
   ]
  },
  {
   "cell_type": "markdown",
   "id": "24ded9f6",
   "metadata": {},
   "source": [
    "Ejercicio\n",
    "\n",
    "Separa el dataset en dos conjuntos:\n",
    "\n",
    "conjunto de entrenamiento (df_train);\n",
    "conjunto de validación (df_valid) — 25 % de los datos fuente\n",
    "Declara cuatro variables y pásalas de la siguiente manera:\n",
    "\n",
    "características: features_train y features_valid;\n",
    "objetivo: target_train y target_valid\n",
    "Imprime los tamaños de las tablas que están almacenadas en cuatro variables (hecho en el precódigo).\n",
    "\n",
    "Declara variables para el conjunto de validación así:\n",
    "\n",
    "features_valid = df_valid.drop(['last_price', 'price_class'], axis=1)\n",
    "\n",
    "target_valid = df_valid['price_class']"
   ]
  },
  {
   "cell_type": "code",
   "execution_count": null,
   "id": "a3b05a8d",
   "metadata": {},
   "outputs": [],
   "source": [
    "import pandas as pd\n",
    "from sklearn.model_selection import train_test_split\n",
    "\n",
    "df = pd.read_csv('/datasets/train_data_us.csv')\n",
    "df.loc[df['last_price'] > 113000, 'price_class'] = 1\n",
    "df.loc[df['last_price'] <= 113000, 'price_class'] = 0\n",
    "\n",
    "df_train, df_valid = train_test_split(df, test_size=0.25, random_state=12345)\n",
    "# < separa los datos en entrenamiento y validación >\n",
    "\n",
    "# < declara variables para las características y para la característica objetivo >\n",
    "features_train = df_train.drop(['last_price', 'price_class'], axis=1)\n",
    "target_train = df_train['price_class']\n",
    "features_valid = df_valid.drop(['last_price', 'price_class'], axis=1)# < escribe tu código aquí >\n",
    "target_valid = df_valid['price_class'] # < escribe el código aquí\n",
    "\n",
    "print(features_train.shape)\n",
    "print(target_train.shape)\n",
    "print(features_valid.shape)\n",
    "print(target_valid.shape)"
   ]
  },
  {
   "cell_type": "markdown",
   "id": "73a3bc69",
   "metadata": {},
   "source": [
    "Resultado\n",
    "\n",
    "(4871, 13)\n",
    "\n",
    "(4871,)\n",
    "\n",
    "(1624, 13)\n",
    "\n",
    "(1624,)\n",
    "\n",
    "¡Es correcto!\n",
    "\n",
    "Puedes dividir muchas cosas: un partido político, una pantalla de televisión para un juego multijugador o, lo que más nos importa ahora, un dataset. Se requiere el enfoque correcto para separar adecuadamente. En este caso, necesitamos la función train_test_split()"
   ]
  }
 ],
 "metadata": {
  "kernelspec": {
   "display_name": "machine_learning_env",
   "language": "python",
   "name": "python3"
  },
  "language_info": {
   "name": "python",
   "version": "3.12.9"
  }
 },
 "nbformat": 4,
 "nbformat_minor": 5
}
