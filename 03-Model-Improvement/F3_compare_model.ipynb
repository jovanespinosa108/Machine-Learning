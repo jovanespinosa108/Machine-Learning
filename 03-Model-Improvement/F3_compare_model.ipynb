{
 "cells": [
  {
   "cell_type": "markdown",
   "id": "c8d7e3a1",
   "metadata": {},
   "source": [
    "### Comparación de modelos\n",
    "\n",
    "Quienes se dedican a la ciencia de los datos no solo entrenan modelos, sino que también le explican las ventajas y desventajas al cliente. Comparemos nuestros modelos.\n",
    "\n",
    "En las lecciones anteriores has entrenado a los siguientes modelos:\n",
    "\n",
    "- árbol de decisión\n",
    "- bosque aleatorio\n",
    "- regresión logística\n",
    "\n",
    "No necesitamos trabajar con los tres modelos al mismo tiempo. Cada uno tiene sus ventajas y desventajas. Vamos a evaluar la exactitud y la velocidad de ejecución de los modelos.\n",
    "\n",
    "1. Exactitud. Este es un criterio clave para las empresas. Una exactitud alta se traduce a ingresos altos.\n",
    "\n",
    "Un bosque aleatorio tiene la exactitud más alta porque usa un conjunto de árboles en vez de solo uno.\n",
    "\n",
    "En segundo lugar está la regresión logística. El modelo no es complicado así que no habrá sobreajuste.\n",
    "\n",
    "Los árboles de decisión tienen la calidad más baja de predicción. Si la profundidad del árbol es menos de 4, el árbol está subajustado; si es mayor a 4, está sobreajustado.\n",
    "\n",
    "2. Velocidad de ejecución. También es un criterio importante: si el servicio es lento, será inevitable perder usuarios.\n",
    "\n",
    "La regresión logística es la más rápida porque tiene el menor número de parámetros.\n",
    "\n",
    "La velocidad de los árboles de decisión también es alta y depende de la profundidad del árbol. Durante nuestros experimentos se obtuvo la mejor calidad de modelo a una profundidad de 4. El modelo obtuvo la respuesta en apenas cuatro pruebas de valor de característica. ¡Bastante rápido!\n",
    "\n",
    "El bosque aleatorio es el más lento: cuantos más árboles haya, más lento trabaja este modelo.\n",
    "\n",
    "Vamos a poner los criterios en una tabla:\n",
    "\n",
    "Nombre\t            Exactitud\tVelocidad\n",
    "\n",
    "árbol de decisión\tBajo\t    Alto\n",
    "\n",
    "bosque aleatorio\tAlto\t    Bajo\n",
    "\n",
    "regresión logística\tMedio\t    Alto\n",
    "\n",
    "¡Usar tablas comparativas como esta puede ayudarte en tu trabajo diario!\n",
    "\n",
    "\n"
   ]
  },
  {
   "cell_type": "markdown",
   "id": "d5b7303f",
   "metadata": {},
   "source": [
    "Conclusión\n",
    "\n",
    "En este capítulo aprendiste:\n",
    "\n",
    "Cómo verificar la calidad de un modelo\n",
    "Qué son los hiperparámetros y cómo afectan a la calidad de predicción\n",
    "Cómo \"plantar\" un bosque aleatorio y entrenar una regresión logística\n",
    "En el próximo capítulo conocerás una nueva tarea de aprendizaje automático (la regresión), la métrica de evaluación ECM y el árbol de regresión.\n",
    "\n",
    "Llévate esto contigo\n",
    "Descárgate el resumen del capítulo y la hoja informativa  para poder consultarlos cuando los necesites."
   ]
  }
 ],
 "metadata": {
  "language_info": {
   "name": "python"
  }
 },
 "nbformat": 4,
 "nbformat_minor": 5
}
