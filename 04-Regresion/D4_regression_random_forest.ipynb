{
 "cells": [
  {
   "cell_type": "markdown",
   "id": "d7bcf468",
   "metadata": {},
   "source": [
    "Bosque aleatorio de regresión\n",
    "\n",
    "Si lo piensas, bosque aleatorio es un nombre lindo... En fin, sigamos con el entrenamiento de un modelo de bosque aleatorio para regresión.\n",
    "\n",
    "El bosque aleatorio de regresión no difiere mucho del de clasificación. Lo que hace es entrenar a un grupo de árboles independientes y luego promedia sus respuestas para tomar una decisión."
   ]
  },
  {
   "cell_type": "markdown",
   "id": "8670e496",
   "metadata": {},
   "source": [
    "Ejercicio\n",
    "\n",
    "1. Selecciona 25% de los datos para la muestra de validación (prueba), lo demás será para el entrenamiento.\n",
    "2. Extrae características y objetivos para el entrenamiento y la validación. Para conseguir objetivos, selecciona la columna 'last_price' y divídela entre 100000. La característica son todas las columnas excepto por la columna 'last_price'.\n",
    "3. Entrena modelos de bosque aleatorio para el problema de regresión:\n",
    "con el número de árboles: de 10 a 50, en intervalos de 10,\n",
    "con una profundidad máxima de 1 a 10.\n",
    "4. Para cada modelo, calcula la RECM en el conjunto de validación y guárdalo en la variable error.\n",
    "\n",
    "Para calcular la métrica RECM, toma el valor de la raíz cuadrada del ECM:\n",
    "\n",
    "\n",
    "    mean_squared_error(target_valid, predictions_valid)**0.5\n",
    "    \n",
    "\n",
    "El código se puede ejecutar durante cerca de un minuto. Esto es normal porque estás entrenando 50 modelos.\n",
    "\n",
    "Dataset para este ejercicio"
   ]
  },
  {
   "cell_type": "code",
   "execution_count": 3,
   "id": "1c3775a4",
   "metadata": {},
   "outputs": [
    {
     "name": "stdout",
     "output_type": "stream",
     "text": [
      "Index(['last_price', 'total_area', 'bedrooms', 'ceiling_height',\n",
      "       'floors_total', 'living_area', 'floor', 'bike_parking', 'studio',\n",
      "       'open_plan', 'kitchen_area', 'balcony', 'airports_nearest',\n",
      "       'cityCenters_nearest'],\n",
      "      dtype='object')\n",
      "Validación RECM para los n_estimators de 10 , depth= 1 is 2.3960212238796124\n",
      "Validación RECM para los n_estimators de 10 , depth= 2 is 2.1122446639688435\n",
      "Validación RECM para los n_estimators de 10 , depth= 3 is 1.9740959499997468\n",
      "Validación RECM para los n_estimators de 10 , depth= 4 is 1.8427098576557455\n",
      "Validación RECM para los n_estimators de 10 , depth= 5 is 1.784417875686694\n",
      "Validación RECM para los n_estimators de 10 , depth= 6 is 1.8702209720173095\n",
      "Validación RECM para los n_estimators de 10 , depth= 7 is 1.793159121509078\n",
      "Validación RECM para los n_estimators de 10 , depth= 8 is 1.7468096998889795\n",
      "Validación RECM para los n_estimators de 10 , depth= 9 is 1.7909475486091944\n",
      "Validación RECM para los n_estimators de 10 , depth= 10 is 1.730814097537693\n",
      "Validación RECM para los n_estimators de 20 , depth= 1 is 2.385864337512238\n",
      "Validación RECM para los n_estimators de 20 , depth= 2 is 2.114680438966696\n",
      "Validación RECM para los n_estimators de 20 , depth= 3 is 1.9852473762330756\n",
      "Validación RECM para los n_estimators de 20 , depth= 4 is 1.9033912628930718\n",
      "Validación RECM para los n_estimators de 20 , depth= 5 is 1.8566404726957315\n",
      "Validación RECM para los n_estimators de 20 , depth= 6 is 1.8217357628413762\n",
      "Validación RECM para los n_estimators de 20 , depth= 7 is 1.734104553475037\n",
      "Validación RECM para los n_estimators de 20 , depth= 8 is 1.76963432774949\n",
      "Validación RECM para los n_estimators de 20 , depth= 9 is 1.7537621632785976\n",
      "Validación RECM para los n_estimators de 20 , depth= 10 is 1.7416609111409955\n",
      "Validación RECM para los n_estimators de 30 , depth= 1 is 2.3699493863231695\n",
      "Validación RECM para los n_estimators de 30 , depth= 2 is 2.0992551483640454\n",
      "Validación RECM para los n_estimators de 30 , depth= 3 is 1.9781820690170426\n",
      "Validación RECM para los n_estimators de 30 , depth= 4 is 1.917102290123685\n",
      "Validación RECM para los n_estimators de 30 , depth= 5 is 1.8736445688363852\n",
      "Validación RECM para los n_estimators de 30 , depth= 6 is 1.8220494163346614\n",
      "Validación RECM para los n_estimators de 30 , depth= 7 is 1.7716174496210542\n",
      "Validación RECM para los n_estimators de 30 , depth= 8 is 1.7625178458445354\n",
      "Validación RECM para los n_estimators de 30 , depth= 9 is 1.7672430407213024\n",
      "Validación RECM para los n_estimators de 30 , depth= 10 is 1.7287518235695527\n",
      "Validación RECM para los n_estimators de 40 , depth= 1 is 2.3982305588099453\n",
      "Validación RECM para los n_estimators de 40 , depth= 2 is 2.1016265917767525\n",
      "Validación RECM para los n_estimators de 40 , depth= 3 is 1.988383643555704\n",
      "Validación RECM para los n_estimators de 40 , depth= 4 is 1.931586227717903\n",
      "Validación RECM para los n_estimators de 40 , depth= 5 is 1.873157638874597\n",
      "Validación RECM para los n_estimators de 40 , depth= 6 is 1.8312503349110927\n",
      "Validación RECM para los n_estimators de 40 , depth= 7 is 1.7877778529360793\n",
      "Validación RECM para los n_estimators de 40 , depth= 8 is 1.7882013173154068\n",
      "Validación RECM para los n_estimators de 40 , depth= 9 is 1.7736774076707327\n",
      "Validación RECM para los n_estimators de 40 , depth= 10 is 1.7327705590400058\n",
      "Validación RECM para los n_estimators de 50 , depth= 1 is 2.3714687109562695\n",
      "Validación RECM para los n_estimators de 50 , depth= 2 is 2.100286153891176\n",
      "Validación RECM para los n_estimators de 50 , depth= 3 is 1.9822059638620555\n",
      "Validación RECM para los n_estimators de 50 , depth= 4 is 1.9311502876246265\n",
      "Validación RECM para los n_estimators de 50 , depth= 5 is 1.8375155830929193\n",
      "Validación RECM para los n_estimators de 50 , depth= 6 is 1.8289930496830193\n",
      "Validación RECM para los n_estimators de 50 , depth= 7 is 1.774507099117585\n",
      "Validación RECM para los n_estimators de 50 , depth= 8 is 1.7620920773763233\n",
      "Validación RECM para los n_estimators de 50 , depth= 9 is 1.7596642410297794\n",
      "Validación RECM para los n_estimators de 50 , depth= 10 is 1.7216790376301427\n",
      "RECM del mejor modelo en el conjunto de validación: 1.7216790376301427 n_estimators: 50 best_depth: 10\n"
     ]
    }
   ],
   "source": [
    "import pandas as pd\n",
    "from sklearn.ensemble import RandomForestRegressor\n",
    "from sklearn.model_selection import train_test_split\n",
    "from sklearn.metrics import mean_squared_error\n",
    "\n",
    "df = pd.read_csv('moved_train_data_us.csv')\n",
    "\n",
    "print(df.columns)\n",
    "\n",
    "df_train, df_valid = train_test_split(df, random_state=54321, test_size = 0.25)# haz la división de datos para el entrenamiento y la validación\n",
    "\n",
    "features_train = df_train.drop(['last_price'], axis=1)# extrae las características de entrenamiento\n",
    "target_train = df_train['last_price']/100000# extrae los objetivos de entrenamiento\n",
    "features_valid = df_valid.drop(['last_price'], axis=1)# extrae las características para la validación\n",
    "target_valid = df_valid['last_price']/100000# extrae los objetivos de validación\n",
    "\n",
    "best_error = float('inf')# configura el inicio de RECM\n",
    "best_est = 0\n",
    "best_depth = 0\n",
    "for est in range(10, 51, 10):\n",
    "    for depth in range (1, 11):\n",
    "        model = RandomForestRegressor(random_state=54321, n_estimators=est, max_depth=depth)# inicializa el constructor de modelos con los parámetros random_state=54321, n_estimators=est y max_depth=depth\n",
    "        model.fit(features_train, target_train) # entrena el modelo en el conjunto de entrenamiento\n",
    "        predictions_valid = model.predict(features_valid) # obtén las predicciones del modelo en el conjunto de validación\n",
    "        error = mean_squared_error(target_valid, predictions_valid)**0.5# calcula la RECM en el conjunto de validación\n",
    "        print(\"Validación RECM para los n_estimators de\", est, \", depth=\", depth, \"is\", error)\n",
    "        if error < best_error: # guardamos la configuración del modelo si se logra el error más bajo\n",
    "            best_error = error\n",
    "            best_est = est\n",
    "            best_depth = depth\n",
    "\n",
    "print(\"RECM del mejor modelo en el conjunto de validación:\", best_error, \"n_estimators:\", best_est, \"best_depth:\", best_depth)"
   ]
  },
  {
   "cell_type": "markdown",
   "id": "eeed03b9",
   "metadata": {},
   "source": [
    "Un árbol está bien, pero no puedes vencer a un bosque: la RECM para el conjunto de prueba es menor. Y no te preocupes si es mayor para el conjunto de entrenamiento, eso se debe a que el árbol de decisión está sobreajustado."
   ]
  },
  {
   "cell_type": "code",
   "execution_count": null,
   "id": "33e66334",
   "metadata": {},
   "outputs": [],
   "source": []
  }
 ],
 "metadata": {
  "kernelspec": {
   "display_name": "machine_learning_env",
   "language": "python",
   "name": "python3"
  },
  "language_info": {
   "codemirror_mode": {
    "name": "ipython",
    "version": 3
   },
   "file_extension": ".py",
   "mimetype": "text/x-python",
   "name": "python",
   "nbconvert_exporter": "python",
   "pygments_lexer": "ipython3",
   "version": "3.12.9"
  }
 },
 "nbformat": 4,
 "nbformat_minor": 5
}
