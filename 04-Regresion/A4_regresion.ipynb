{
 "cells": [
  {
   "cell_type": "markdown",
   "id": "a177536d",
   "metadata": {},
   "source": [
    "Ahora conoces tres algoritmos de clasificación. Dividiste los precios en alto y bajo y predijiste la clase del apartamento. Es momento de volver a ese ejercicio de regresión.\n",
    "\n",
    "Empezarás por:\n",
    "\n",
    "- Aprender a resolver tareas de regresión.\n",
    "- Aprender a evaluar modelos de regresión usando el ECM (error cuadrático medio).\n",
    "- Entrenar un árbol de decisión, un bosque aleatorio y un modelo de regresión lineal para la tarea de regresión."
   ]
  },
  {
   "cell_type": "markdown",
   "id": "4957a64b",
   "metadata": {},
   "source": [
    "Regresión\n",
    "\n",
    "¿En qué se diferencian la clasificación y la regresión? Vamos a repasar antes de entrenar un nuevo modelo.\n",
    "\n",
    "Un objetivo (respuesta) puede ser categórico o numérico. Un objetivo categórico indica un problema de tipo clasificación. Si el objetivo es numérico, la tarea es regresión. \n",
    "\n",
    "1. ¿Qué tareas pertenecen a la regresión? \n",
    "    - Predecir el precio más alto que las personas están dispuestas a pagar por un taxi.\n",
    "\n",
    "    El objetivo es numérico así que es una tarea de regresión.\n",
    "\n",
    "    - Pronosticar cuántos boletos se venderán para las proyección de una película en la mañana y en la tarde.\n",
    "\n",
    "    El objetivo es numérico así que es una tarea de regresión.\n",
    "\n",
    "    - Determinar cuántos días tomará tramitar una visa con base en el país, el tipo de permiso de entrada y la información de quien solicita.\n",
    "\n",
    "    El objetivo es numérico así que la tarea es regresión."
   ]
  },
  {
   "attachments": {
    "error-cuadratico-medio.png": {
     "image/png": "[encoded data removed]"
    },
    "formula-ECM.png": {
     "image/png": "[encoded data removed]"
    }
   },
   "cell_type": "markdown",
   "id": "c7b28fec",
   "metadata": {},
   "source": [
    "Error cuadrático medio\n",
    "\n",
    "¿Qué métrica es la más utilizada en una tarea de regresión? ¡El error cuadrático medio!\n",
    "\n",
    "¿Cómo debemos definir la \"respuesta correcta\" para nuestra tarea? ¿Debería ser una coincidencia exacta de precio? ¿Qué pasaría si el modelo errara por 10 centavos? ¿Sería un fracaso? Obviamente, la métrica de exactitud ya no es válida.\n",
    "\n",
    "La métrica de evaluación más comúnmente usada para las tareas de regresión es el error cuadrático medio o EMC (en inglés MSE).\n",
    "\n",
    "Para encontrar el EMC, primero debes calcular el error de cada observación:\n",
    "\n",
    "![error-cuadratico-medio.png](attachment:error-cuadratico-medio.png)\n",
    "\n",
    "\n",
    "Formula Error Cuadratico Medio\n",
    "\n",
    "![formula-ECM.png](attachment:formula-ECM.png)\n",
    "\n",
    "Vamos a analizar estos cálculos:\n",
    "\n",
    "- El error de observación muestra el grado de discrepancia entre la respuesta correcta y la predicción. Si el error es mucho más grande que cero, el modelo ha sobrevalorado el apartamento; si es mucho menor que cero, entonces el modelo le ha dado un precio reducido.\n",
    "- No tendría caso sumar los errores como están, ya que los positivos anularían los negativos. Para hacer que todos cuenten, necesitamos deshacernos de los signos elevándolos al cuadrado.\n",
    "- Calculamos la media para obtener un valor representativo del conjunto completo de observaciones.\n",
    "\n",
    "En las lecciones anteriores intentamos obtener la mayor exactitud. Por otro lado, el EMC debe ser lo más bajo posible.\n",
    "\n",
    "Recuerda que al elevar al cuadrado el EMC no tendrá la misma unidad de medida que nuestra variable objetivo. Probablemente recuerdes que nos enfrentamos a un problema similar en el curso de Estadística cuando intentábamos medir la dispersión con varianza. ¿Recuerdas qué hicimos para sacar las unidades originales? ¡Sacamos una raíz cuadrada! Si tomas la raíz cuadrada del EMC obtendrás una métrica llamada RECM (en inglés RMSE), que significa raíz del error cuadrático medio. Tiene las mismas unidades de medida que la variable objetivo.\n",
    "\n",
    "Imagina que tu startup se lanza al mercado latinoamericano. Creaste un modelo de regresión que predice los presupuestos para campañas de publicidad. La tabla muestra la predicción y el costo real.\n",
    "\n",
    "\n",
    "País\t    Predicción\tPrecio real\n",
    "\n",
    "Brasil\t    623\t        649\n",
    "\n",
    "Perú\t    253\t        253\n",
    "\n",
    "México\t    150\t        370\n",
    "\n",
    "Colombia\t237\t        148"
   ]
  },
  {
   "cell_type": "markdown",
   "id": "0170a64b",
   "metadata": {},
   "source": [
    "1. Con la ayuda de una calculadora o de EMC Python, calcula el EMC\n",
    "    14249.25\n"
   ]
  }
 ],
 "metadata": {
  "language_info": {
   "name": "python"
  }
 },
 "nbformat": 4,
 "nbformat_minor": 5
}
