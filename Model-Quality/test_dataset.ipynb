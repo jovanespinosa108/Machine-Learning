{
 "cells": [
  {
   "cell_type": "markdown",
   "id": "a3035157",
   "metadata": {},
   "source": [
    "### Dataset de prueba\n",
    "\n",
    "Ahora es momento poner el modelo a prueba. ¿Cómo comprobamos su conocimiento? Necesitaremos un nuevo conjunto de datos con respuestas conocidas.\n",
    "\n",
    "Recordemos el código de entrenamiento del modelo:\n",
    "\n",
    "Para probar si nuestro modelo hace predicciones precisas incluso cuando se enfrenta a nuevos datos, vamos a utilizar un nuevo conjunto de datos. Ese será el conjunto de datos de prueba. Nombremos el archivo de datos test_data_us.csv y veamos cómo lo maneja el modelo."
   ]
  },
  {
   "cell_type": "markdown",
   "id": "a46c6291",
   "metadata": {},
   "source": [
    "Ejercicio 1\n",
    "\n",
    "Asigna las tres primeras observaciones del conjunto de prueba (/datasets/test_data_us.csv) a la variable test_df. Guarda las funciones utilizadas para la clasificación en la variable test_features. Haz una predicción de las respuestas.\n",
    "\n",
    "Crea la nueva columna con las respuestas correctas (price_class) y calcula sus valores de la misma manera que lo hiciste para el conjunto de datos principal. Copia esta columna en la variable test_target.\n",
    "Imprime las predicciones y las respuestas correctas en la pantalla de la siguiente manera:\n",
    "\n",
    "Predicciones: [... ... ...]\n",
    "Respuestas correctas: [... ... ...]\n",
    "\n",
    "Las matrices de salida tienen que ser numpy.ndarray. El modelo genera este formato de manera predeterminada, así que deja test_predictions como está. Usa el atributo values para tomar los valores de numpy.ndarray desde el objeto serie test_target. \n",
    "\n",
    "Averigüa cuántos errores ha cometido el modelo."
   ]
  },
  {
   "cell_type": "code",
   "execution_count": null,
   "id": "88eb83aa",
   "metadata": {},
   "outputs": [],
   "source": [
    "import pandas as pd\n",
    "from sklearn.tree import DecisionTreeClassifier\n",
    "\n",
    "# el conjunto de entrenamiento está en el archivo train_data_us.csv \n",
    "df = pd.read_csv('/datasets/train_data_us.csv')\n",
    "\n",
    "# Create column 'price_class' that will contains values less/equal than 113k (0) and more than 113k (1)\n",
    "df.loc[df['last_price'] > 113000, 'price_class'] = 1\n",
    "df.loc[df['last_price'] <= 113000, 'price_class'] = 0\n",
    "\n",
    "# Contains all columns from df but 'last_price' and 'price class'\n",
    "features = df.drop(['last_price', 'price_class'], axis=1)\n",
    "\n",
    "# Contains the target column to apply prediction\n",
    "target = df['price_class']\n",
    "\n",
    "# creates the model DecisionTreeClasifier\n",
    "model = DecisionTreeClassifier(random_state=12345)\n",
    "\n",
    "# trains the model using all the fetured columns and the target column\n",
    "model.fit(features, target)\n",
    "\n",
    "# Loads all test data and take the first 3 observations (columns)\n",
    "test_df = pd.read_csv('/datasets/test_data_us.csv')[:3]\n",
    "#print(f'\\ntest columns:',test_df.columns)\n",
    "\n",
    "# creates column 'price_class' in test_df, values less/equal than 113k (0) and more than 113k (1)\n",
    "test_df.loc[test_df['last_price']> 113000, 'price_class']=1\n",
    "test_df.loc[test_df['last_price']<= 113000, 'price_class']=0\n",
    "\n",
    "\n",
    "# Eliminates 'last_price' and 'price_class' columns from test_df and leave the rest\n",
    "test_features = test_df.drop(['last_price', 'price_class'], axis=1)\n",
    "\n",
    "# Contains the target column to apply test prediction\n",
    "test_target = test_df['price_class']\n",
    "\n",
    "# Applies the prediction model to the test_features and saved it on a new variable\n",
    "test_predictions = model.predict(test_features)\n",
    "\n",
    "# prints the prediction and right answers\n",
    "print('Predicciones:', test_predictions)\n",
    "print('Respuestas correctas:', test_target.values) #Convierts the pandas series in ndarray by using .values\n"
   ]
  },
  {
   "cell_type": "markdown",
   "id": "6920be2c",
   "metadata": {},
   "source": []
  },
  {
   "cell_type": "code",
   "execution_count": null,
   "id": "e0d7e103",
   "metadata": {},
   "outputs": [],
   "source": [
    "# Count errors \n",
    "def error_count(answers, predictions):\n",
    "    counter = 0\n",
    "    for i in range(len(answers)):\n",
    "        if answers[i] != predictions[i]:\n",
    "            counter += 1\n",
    "    return counter\n",
    "\n",
    "print('Errores:', error_count(test_target, test_predictions))\n",
    "\n",
    "# Output: Errores: 275"
   ]
  }
 ],
 "metadata": {
  "kernelspec": {
   "display_name": "machine_learning_env",
   "language": "python",
   "name": "python3"
  },
  "language_info": {
   "codemirror_mode": {
    "name": "ipython",
    "version": 3
   },
   "file_extension": ".py",
   "mimetype": "text/x-python",
   "name": "python",
   "nbconvert_exporter": "python",
   "pygments_lexer": "ipython3",
   "version": "3.12.9"
  }
 },
 "nbformat": 4,
 "nbformat_minor": 5
}
