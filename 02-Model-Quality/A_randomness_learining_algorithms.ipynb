{
 "cells": [
  {
   "cell_type": "markdown",
   "id": "d98df9a2",
   "metadata": {},
   "source": [
    "### Introduccion\n",
    "\n",
    "Empezarás por:\n",
    "- Aprender a trabajar con conjuntos de datos de prueba.\n",
    "- Aprender acerca del sobreajuste y subajuste.\n",
    "\n",
    "Seguiremos desarrollando un algoritmo para dar precios de apartamentos de forma automática.\n",
    "\n",
    "#### Aleatoriedad en algoritmos de aprendizaje\n",
    "\n",
    "Obtenemos un nuevo modelo entrenado cada vez que entrenamos un árbol de decisión. ¿Cómo se supone que vamos a hacer una prueba si no sabemos quién la va a tomar? Analicemos este problema.\n",
    "\n",
    "Agregar aleatoriedad a los algoritmos de aprendizaje es un gran impulso para la capacidad de un modelo para descubrir relaciones en los datos. Digamos que estás aprendiendo español. Tu plan es hacer veinte tarjetas con palabras nuevas y repasarlas de vez en cuando. Tu amigo sugiere barajar las tarjetas cada vez para memorizar mejor las palabras. El barajado introduce aleatoriedad en el algoritmo de aprendizaje.\n",
    "\n",
    "Una computadora no puede generar números verdaderamente aleatorios. Utiliza generadores de números pseudoaleatorios que crean secuencias aparentemente aleatorias. Saber un cierto número no te permitirá adivinar el siguiente.\n",
    "\n",
    "Tal vez te preguntes cómo es posible que los números sean aleatorios, pero siempre iguales. Nuevamente, es porque solo parecen aleatorios.\n",
    "\n",
    "Volvamos a las tarjetas en español. Las tarjetas te ayudaron mucho, así que decidiste usarlas para ayudar a otros estudiantes de español. Crea una secuencia diferente de tarjetas para cada día para repartir a los estudiantes. De esta manera, sabrás exactamente qué tarjeta será, digamos, la octava en un viernes determinado. Esto no dañará al proceso de aprendizaje, ya que el orden de las tarjetas parecerá aleatorio para los estudiantes.\n",
    "\n",
    "Para que el algoritmo de aprendizaje utilice siempre los mismos números pseudoaleatorios, simplemente especifica el parámetro random_state:\n",
    "\n",
    "#especifica un estado aleatorio (número)\n",
    "\n",
    "model = DecisionTreeClassifier(random_state=12345)\n",
    "\n",
    "#entrena al modelo de la misma manera que antes\n",
    "\n",
    "model.fit(features, target)\n",
    "\n",
    "Puedes establecer cualquier valor para random_state (\"54321\", \"123\", \"0\" o incluso un string). Lo importante es utilizar el mismo valor durante todo el tiempo que desees obtener exactamente el mismo modelo. Usemos el valor random_state de \"12345\".\n",
    "\n",
    "Si configuras random_state=None (el valor predeterminado), la pseudoaleatoriedad siempre será diferente."
   ]
  },
  {
   "cell_type": "markdown",
   "id": "01c331d2",
   "metadata": {},
   "source": [
    "Pregunta\n",
    "\n",
    "¿Por qué necesitamos el parámetro random_state para algoritmos de aprendizaje?\n",
    "    Este parámetro se especifica para duplicar un experimento exitoso\n",
    "\n",
    "    Perder resultados exitosos no es bueno.\n",
    "\n",
    "    ¿Recuerdas haber jugado videojuegos en tu niñez? Luchar en un nivel difícil durante una semana, finalmente superarlo, pero olvidar guardar tu progreso... ¡Qué fastidio!"
   ]
  }
 ],
 "metadata": {
  "language_info": {
   "name": "python"
  }
 },
 "nbformat": 4,
 "nbformat_minor": 5
}
