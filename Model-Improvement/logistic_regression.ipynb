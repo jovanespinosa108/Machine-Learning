{
 "cells": [
  {
   "cell_type": "markdown",
   "id": "30e28a8c",
   "metadata": {},
   "source": [
    "### Regresión logística\n",
    "\n",
    "El aprendizaje de algoritmos no solo requiere árboles de decisión, sino también otros enfoques para realizar tareas de clasificación.\n",
    "\n",
    "Si incrementamos el valor del hiperparámetro n_estimators el modelo se vuelve voluminoso y el proceso de entrenamiento se hace lento, lo cual no es bueno. Pero si mantenemos el número de árboles bajo, los resultados no mejorarán, así que eso también es malo. Quizás sea momento de que cambiemos los árboles por otra cosa. Probemos con la regresión logística. Aunque el nombre sugiere un problema de regresión, sigue siendo un algoritmo de clasificación.\n",
    "\n",
    "A mediados del siglo XIX, el matemático belga Pierre François Verhulst presentó la función logística. Originalmente, la usó para predecir la dinámica de crecimiento de la población, pero en el siglo XX sus ecuaciones resultaron útiles para una gran variedad de aplicaciones. Al ponerla en un gráfico, la función logística tiene la forma de una curva sigmoide (que tiene forma de s). Por lo general, el eje Y tiene un rango de 0 a 1 y representa la probabilidad de un evento. El eje X traza el gráfico de una variable que afecta a la probabilidad.\n",
    "\n",
    "Si fuéramos a usar una curva logística para intentar predecir una etiqueta binaria (precio alto/bajo) con base en solo una característica (digamos, el área del apartamento), entonces el modelo entrenado podría representarse visualmente como se muestra a continuación. Agrega puntos al gráfico haciendo clic en ellos y observa cómo la regresión logística los categorizará en precios altos y bajos."
   ]
  },
  {
   "cell_type": "markdown",
   "id": "6d71f08e",
   "metadata": {},
   "source": [
    "Aquí vemos apartamentos con la etiqueta \"1\" (costosos) en la parte superior y apartamentos con la etiqueta \"0\" (baratos) en la inferior. Está claro que, en términos generales, los apartamentos costosos suelen ser más grandes, pero la distinción no está tan marcada. Hay algo de traslape de valores de área donde la etiqueta no es definitiva. La curva representa la probabilidad de que un determinado valor de área corresponda con la etiqueta \"1\" y el trabajo del algoritmo es encontrar la posición óptima para esta curva. Luego podemos usar la curva resultante para etiquetar nuevos datos. Si la curva y el área determinada nos dan una probabilidad de más de 0.5 (o, en otras palabras, más del 50%), entonces el apartamento lleva la leyenda \"1\"; de lo contrario, lleva la leyenda \"0\".\n",
    "\n",
    "La fórmula de la función logística que respalda a esta curva se puede escribir así:\n",
    "\n",
    "ln(p/1-p)=b0 + b1 * x1\n",
    "​\n",
    "Para obtener la verdadera forma de la función logística necesitarías despejar p (donde p es la probabilidad de la etiqueta \"1\", mostrada en un eje vertical), pero esta forma alternativa es más ilustrativa. A la derecha, x1 es la característica (en este caso, el área). Su coeficiente b1 es el coeficiente angular y b0 es el coeficiente lineal. Puedes verlos como la “inclinación” y el “desplazamiento” de una curva, respectivamente. Típicamente, estos parámetros se inicializan como ceros, pero se ajustarán hacia valores positivos o negativos al ejecutar el algoritmo. En este caso, ya que las áreas siempre son positivas y su correlación con los precios también es positiva, el coeficiente lineal será negativo para compensarlo.\n",
    "\n",
    "El lado izquierdo de la ecuación se llama “proximidad de clase” y se representa con una función log-odds, un logaritmo de las probabilidades. Fíjate que debido a que p es la probabilidad de que la etiqueta adecuada sea \"1\", eso significa que 1-p es la probabilidad de que la etiqueta adecuada sea \"0\". Si ambas probabilidades son iguales a 0.5, entonces la proximidad de clase es ln(1) = 0 y ninguna etiqueta puede ser asignada con confianza. Esto supone dos cosas:\n",
    "\n",
    "1) Si la proximidad de clase es positiva, el modelo escoge la clase \"1\" (precio alto); si es negativa, el modelo escoge la clase \"0\" (precio bajo).\n",
    "\n",
    "2) Cuanto más lejos esté la proximidad de clase de cero, más seguro está el modelo sobre una de las leyendas. Los valores de proximidad de clase de 1, 2 y 3 corresponden con los valores p de 0.73, 0.88 y 0.95. Incluso valores más altos de proximidad de clase harán que p tienda a 1 infinitamente. En cambio, valores de proximidad de clase de -1, -2 y -3 corresponden con valores p de 0.27, 0.12 y 0.05. Incluso valores más bajos de proximidad de clase harán que p tienda a 0 infinitamente.\n",
    "\n",
    "Durante el entrenamiento, el modelo calcula la proximidad de clase para cada observación en los datos de entrenamiento y les asigna etiquetas. Luego compara las etiquetas que asignó con las reales y ajusta repetidamente los parámetros b en la dirección que mejore los resultados de la clasificación.\n",
    "\n",
    "La regresión logística puede usarse con más de una característica a la vez. Intentemos usar dos: área y distancia. Esta vez, la regresión logística tiene que aprender tres parámetros: dos coeficientes angulares y uno lineal. Después de un determinado número de mejoras iterativas, el modelo puede resultar así:\n",
    "\n",
    "proximidad de clase=−7+10 * area/m 2 −distancia desde el centro center/m\n",
    "\n",
    "El precio de un apartamento es directamente proporcional al área e inversamente proporcional a la distancia desde el centro de la ciudad. Cada metro cuadrado del área afecta al precio diez veces más que cada metro de distancia del centro de la ciudad. Aparentemente, un desplazamiento del coeficiente lineal negativo también es necesario.\n",
    "\n",
    "Se puede incrementar más el número de características, así que, en la práctica, siempre vamos a usar todas las disponibles a la vez. Si una característica no es relevante para la predicción, lo más probable es que el modelo aprenda un coeficiente angular cercano a cero para esa característica, con lo que esencialmente estará ignorándola.\n",
    "\n",
    "La regresión logística tiene una estructura mucho más sencilla que los árboles de decisión, así que si bien es un tanto rígida, no es tan propensa al sobreajuste.\n",
    "\n",
    "El modelo LogisticRegression se puede encontrar en el módulo linear_model de la librería scikit-learn. Impórtalo:\n",
    "\n",
    "from sklearn.linear_model import LogisticRegression\n",
    "Almacena el modelo en una variable y especifica los hiperparámetros. Para obtener uniformidad en los resultados, establece random_state en 54321.\n",
    "\n",
    "También necesitamos especificar un solver, una versión del algoritmo que determine qué tan ajustada está exactamente la curva. Por lo general, producen resultados similares. Usaremos el solver 'liblinear' porque es el más general. Funciona bien para conjuntos de datos pequeños con muchas características.\n",
    "\n",
    "model = LogisticRegression(random_state=54321, solver='liblinear')\n",
    "\n",
    "Entrena el modelo llamando al método **fit().\n",
    "\n",
    "model.fit(features, target)\n",
    "\n",
    "Llama al método score() para mostrar la exactitud del modelo:\n",
    "\n",
    "model.score(features, target)"
   ]
  },
  {
   "cell_type": "markdown",
   "id": "adf24f7a",
   "metadata": {},
   "source": [
    "Entrena un modelo de regresión logística en el conjunto de entrenamiento, luego calcula el valor de accuracy tanto en el conjunto de entrenamiento como en el conjunto de validación.\n",
    "\n",
    "Especifica random_state=54321 y solver='liblinear' al inicializar el constructor de modelos."
   ]
  },
  {
   "cell_type": "code",
   "execution_count": null,
   "id": "6d58f722",
   "metadata": {},
   "outputs": [],
   "source": [
    "import pandas as pd\n",
    "from sklearn.linear_model import LogisticRegression\n",
    "from sklearn.model_selection import train_test_split\n",
    "\n",
    "df = pd.read_csv('/datasets/train_data_us.csv')\n",
    "\n",
    "df.loc[df['last_price'] > 113000, 'price_class'] = 1\n",
    "df.loc[df['last_price'] <= 113000, 'price_class'] = 0\n",
    "\n",
    "df_train, df_valid = train_test_split(df, test_size=0.25, random_state=54321) # segmenta el 25% de los datos para hacer el conjunto de validación\n",
    "\n",
    "features_train = df_train.drop(['last_price', 'price_class'], axis=1)\n",
    "target_train = df_train['price_class']\n",
    "features_valid = df_valid.drop(['last_price', 'price_class'], axis=1)\n",
    "target_valid = df_valid['price_class']\n",
    "\n",
    "model = LogisticRegression(random_state=54321, solver='liblinear')# inicializa el constructor de regresión logística con los parámetros random_state=54321 y solver='liblinear'\n",
    "model.fit(features_train, target_train) # entrena el modelo en el conjunto de entrenamiento\n",
    "score_train = model.score(features_train, target_train) # calcula la puntuación de accuracy en el conjunto de entrenamiento\n",
    "score_valid = model.score(features_valid, target_valid) # calcula la puntuación de accuracy en el conjunto de validación\n",
    "\n",
    "print(\"Accuracy del modelo de regresión logística en el conjunto de entrenamiento:\", score_train)\n",
    "print(\"Accuracy del modelo de regresión logística en el conjunto de validación:\", score_valid)"
   ]
  },
  {
   "cell_type": "markdown",
   "id": "b498a524",
   "metadata": {},
   "source": [
    "Resultado\n",
    "\n",
    "Accuracy del modelo de regresión logística en el conjunto de entrenamiento: 0.8764114144939438\n",
    "\n",
    "Accuracy del modelo de regresión logística en el conjunto de validación: 0.8866995073891626\n",
    "\n",
    "El entrenamiento del modelo es muy rápido. ¡Ahora nuestro modelo puede competir en una carrera de la F1!\n",
    "\n",
    "Accuracy es un poco más baja en comparación con los modelos de bosques aleatorios; pero en el lado positivo, considera cómo el conjunto de entrenamiento accuracy no \"se adelanta\" a los valores de accuracy en los conjuntos de validación y prueba. Esto indica la falta de sobreajuste y demuestra cómo la regresión logística es más resistente a él."
   ]
  }
 ],
 "metadata": {
  "kernelspec": {
   "display_name": "machine_learning_env",
   "language": "python",
   "name": "python3"
  },
  "language_info": {
   "name": "python",
   "version": "3.12.9"
  }
 },
 "nbformat": 4,
 "nbformat_minor": 5
}
