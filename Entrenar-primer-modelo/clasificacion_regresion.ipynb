{
 "cells": [
  {
   "cell_type": "markdown",
   "id": "6abfc9f0",
   "metadata": {},
   "source": [
    "Clasificación y regresión\n",
    "\n",
    "Volvamos a nuestro problema de vivienda y decidamos qué es mejor usar: clasificación o regresión.\n",
    "\n",
    "El precio del apartamento es un objetivo numérico, por lo que se trata de una tarea de regresión. La regresión suele implicar largos cálculos con muchas respuestas posibles, por lo que las tareas de regresión no son la forma más sencilla de familiarizarse con el machine learning. Para simplificar, dividiremos todos los precios en \"altos\" y \"bajos\" por ahora, convirtiendo efectivamente nuestra tarea en una tarea de clasificación binaria con solo dos respuestas posibles. Entonces todo lo que tenemos que hacer es predecir en qué clase cae cualquier lista dada. Nos ocuparemos de la regresión más tarde.\n",
    "\n",
    "Entonces, ¿cómo se dividen exactamente los precios en altos y bajos? Es más fácil cuando hay un número casi igual de objetos en las categorías. ¿Por qué? ¡Porque es difícil distinguir las cornejas de los cuervos si solo estás viendo a las cornejas!\n",
    "\n",
    "Averigüemos el precio medio (justo en el medio)."
   ]
  },
  {
   "cell_type": "markdown",
   "id": "ee6612a2",
   "metadata": {},
   "source": [
    "import pandas as pd\n",
    "\n",
    "df = pd.read_csv('/datasets/train_data_us.csv')\n",
    "\n",
    "print(df['last_price'].median())\n",
    "113000.0\n",
    "\n",
    "Los precios superiores a $113 000 son altos, mientras que cualquier valor inferior se considera bajo.\n",
    "\n",
    "\n",
    "Caracteristicas =  columnas\n",
    "Observaciones = filas/rows\n",
    "Objetivo = columna seleccionadas\n"
   ]
  },
  {
   "cell_type": "markdown",
   "id": "c5708207",
   "metadata": {},
   "source": [
    "1.\n",
    "\n",
    "Cambia la tarea original a una tarea de clasificación. Crea una nueva característica llamada price_class. Para precios mayores a $113 000, asigna price_class a 1. Para precios menores o iguales a $113 000, asigna 'price_class' a 0. Imprime las primeras cinco filas de la tabla (que ya están en precodificación). \n",
    "\n",
    "Usa el método loc() para acceder a elementos especificando su fila y columna."
   ]
  },
  {
   "cell_type": "code",
   "execution_count": null,
   "id": "d34056f1",
   "metadata": {},
   "outputs": [],
   "source": [
    "import pandas as pd\n",
    "\n",
    "df = pd.read_csv('/datasets/train_data_us.csv')\n",
    "\n",
    "df['price_class'] = 0\n",
    "df.loc[df['last_price'] > 113000, 'price_class'] = 1\n",
    "\n",
    "print(df.loc[0:4, :])"
   ]
  },
  {
   "cell_type": "markdown",
   "id": "216246bd",
   "metadata": {},
   "source": [
    "Resultado\n",
    "\n",
    "   last_price  total_area  ...  cityCenters_nearest  price_class\n",
    "0    108000.0        59.0  ...                 8180            0\n",
    "1    264000.0       109.0  ...                 8643            1\n",
    "2    140000.0        74.5  ...                16670            1\n",
    "3     64000.0        37.4  ...                17699            0\n",
    "4    133000.0        64.9  ...                10573            1\n",
    "\n",
    "[5 rows x 15 columns]"
   ]
  },
  {
   "cell_type": "markdown",
   "id": "af167d1e",
   "metadata": {},
   "source": [
    "Muchas librerías de machine learning requieren que las características se almacenen en variables separadas. Declara dos variables:\n",
    "\n",
    "- features para características\n",
    "- target para objetivo\n",
    "\n",
    "Imprime los tamaños de estas variables en pantalla (que ya están en el precódigo).\n",
    "\n",
    "Todas las columnas, excepto last_price y price_class son características. price_class es el objetivo. Ya no necesitamos la columna last_price."
   ]
  },
  {
   "cell_type": "code",
   "execution_count": null,
   "id": "05305b33",
   "metadata": {},
   "outputs": [],
   "source": [
    "import pandas as pd\n",
    "\n",
    "df = pd.read_csv('/datasets/train_data_us.csv')\n",
    "\n",
    "df.loc[df['last_price'] > 113000, 'price_class'] = 1\n",
    "df.loc[df['last_price'] <= 113000, 'price_class'] = 0\n",
    "\n",
    "#print(df.columns) this is to get all columns from the df\n",
    "\n",
    "\n",
    "features = df[['total_area', 'bedrooms', 'ceiling_height',\n",
    "       'floors_total', 'living_area', 'floor', 'bike_parking', 'studio',\n",
    "       'open_plan', 'kitchen_area', 'balcony', 'airports_nearest',\n",
    "       'cityCenters_nearest']]\n",
    "target = df['price_class'] # < escribe el código aquí >\n",
    "\n",
    "print(features.shape)\n",
    "print(target.shape)\n",
    "\n",
    "#(6495, 13)\n",
    "#(6495,)"
   ]
  }
 ],
 "metadata": {
  "kernelspec": {
   "display_name": "machine_learning_env",
   "language": "python",
   "name": "python3"
  },
  "language_info": {
   "name": "python",
   "version": "3.12.9"
  }
 },
 "nbformat": 4,
 "nbformat_minor": 5
}
