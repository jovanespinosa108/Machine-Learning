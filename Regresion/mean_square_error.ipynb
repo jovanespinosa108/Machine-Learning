{
 "cells": [
  {
   "cell_type": "markdown",
   "id": "e23aab23",
   "metadata": {},
   "source": [
    "Calcular el EMC\n",
    "\n",
    "Vamos a automatizar el cálculo del EMC.\n",
    "\n",
    "¿Cómo calculaste el EMC en el ejercicio pasado? ¿Lo hiciste manualmente con una calculadora o programaste un sencillo programa en Python?\n",
    "\n",
    "Automatiza este cálculo:\n",
    "\n",
    "1. Escribe una función mse(). Debe tomar respuestas correctas y predicciones y devolver el valor del error cuadrático medio.\n",
    "\n",
    "Tomamos las respuestas (costos reales) y las predicciones de la tabla. Imprime en la pantalla el valor del EMC.\n",
    "\n",
    "Completa el código:\n",
    "\n",
    "def mse(answers, predictions):\n",
    "    total = 0\n",
    "    for i in range(len(answers)):\n",
    "        total += # < agrega el error cuadrático >\n",
    "    result = # < divide la suma entre el número de observaciones >\n",
    "    return result"
   ]
  },
  {
   "cell_type": "code",
   "execution_count": 2,
   "id": "571955e9",
   "metadata": {},
   "outputs": [
    {
     "name": "stdout",
     "output_type": "stream",
     "text": [
      "14249.25\n"
     ]
    }
   ],
   "source": [
    "def mse(answers, predictions):\n",
    "    total = 0\n",
    "    for i in range(len(answers)):\n",
    "        total += (answers[i] - predictions[i]) ** 2\n",
    "    result = total/len(answers)\n",
    "    return result\n",
    "    \n",
    "answers = [623, 253, 150, 237]\n",
    "predictions = [649, 253, 370, 148]\n",
    "\n",
    "print(mse(answers, predictions))"
   ]
  },
  {
   "cell_type": "markdown",
   "id": "257d3313",
   "metadata": {},
   "source": [
    "2. Tambien hay una función para calcular el EMC en sklearn.\n",
    "\n",
    "Busca en la documentación el nombre de la función y cómo opera. Impórtala y resuelve el mismo problema. Imprime en la pantalla el valor del EMC.\n",
    "\n",
    "Aquí puedes encontrar la documentación de la librería sklearn: https://scikit-learn.org/stable/modules/classes.html. Si pierdes el vínculo, haz una búsqueda con \"sklearn reference\" como frase clave."
   ]
  },
  {
   "cell_type": "code",
   "execution_count": 4,
   "id": "f5ca7a53",
   "metadata": {},
   "outputs": [
    {
     "name": "stdout",
     "output_type": "stream",
     "text": [
      "14249.25\n"
     ]
    }
   ],
   "source": [
    "from sklearn.metrics import mean_squared_error\n",
    "\n",
    "answers = [623, 253, 150, 237]\n",
    "predictions = [649, 253, 370, 148]\n",
    "\n",
    "result = mean_squared_error(answers, predictions)\n",
    "print(result)\n",
    "\n"
   ]
  },
  {
   "cell_type": "markdown",
   "id": "d7c1961b",
   "metadata": {},
   "source": [
    "Interpretación del ECM\n",
    "\n",
    "Para hacer la prueba de cordura al modelo para buscar problemas de clasificación necesitamos comparar sus predicciones con posibilidad aleatoria. ¿Cómo se hace una prueba de cordura para un modelo de regresión?\n",
    "\n",
    "Darle la misma respuesta a todas las observaciones es un método simple de predicción de regresión. Vamos a usar el valor promedio del precio del apartamento para estar más cerca de la realidad.\n",
    "\n",
    "1. Prepara los datos y encuentra el precio promedio.\n",
    "\n",
    "Declara la variable features con todas las características excepto last_price.\n",
    "Declara la variable target con last_price como objetivo.\n",
    "Calcula el valor promedio para los elementos de la variable target.\n",
    "Imprime el resultado como se muestra:\n",
    "\n",
    "Average price: ..."
   ]
  },
  {
   "cell_type": "code",
   "execution_count": null,
   "id": "a7ef0747",
   "metadata": {},
   "outputs": [],
   "source": [
    "import pandas as pd\n",
    "from sklearn.metrics import mean_squared_error\n",
    "\n",
    "df = pd.read_csv('/datasets/train_data_us.csv')\n",
    "\n",
    "# < create variables features y target >\n",
    "features = df.drop(['last_price'], axis = 1)\n",
    "target = df['last_price']\n",
    "\n",
    "# < calculate and print the mean >\n",
    "print('Average price:', target.mean())\n",
    "\n",
    "#output: Average price: 161005.67427559663"
   ]
  },
  {
   "cell_type": "markdown",
   "id": "de9cea3d",
   "metadata": {},
   "source": [
    "2. Calcula el ECM para el conjunto de entrenamiento usando el precio promedio como valor de predicción.\n",
    "\n",
    "Imprime el resultado como se muestra:\n",
    "\n",
    "MSE: ...\n",
    "\n",
    "La función mean_squared_error() en scikit-learn tiene su maña. Tendrás que pasar unos minutos leyendo la documentación o consultar Stack Overflow.\n",
    "\n",
    "En el precódigo, dividimos los precios entre 100 000 con el propósito de evitar números grandes.\n",
    "\n",
    "La función mean_squared_error() solo toma objetos de tipo matriz como sus argumentos. No acepta valores escalares así que necesitas enviar la media al tamaño del objetivo. Una manera de hacerlo es crear una serie así:\n",
    "\n",
    "    predictions = pd.Series(target.mean(), index=target.index)"
   ]
  },
  {
   "cell_type": "code",
   "execution_count": null,
   "id": "6b8d0c18",
   "metadata": {},
   "outputs": [],
   "source": [
    "\n",
    "features = df.drop(['last_price'], axis=1)\n",
    "target = df['last_price'] / 100000\n",
    "\n",
    "predictions = pd.Series(target.mean(), index=target.index)\n",
    "\n",
    "# < calcula el ECM  >\n",
    "mse = mean_squared_error(target, predictions)\n",
    "\n",
    "print('MSE:', mse)\n",
    "\n",
    "#output: MSE: 5.529775874409322"
   ]
  },
  {
   "cell_type": "markdown",
   "id": "12924f18",
   "metadata": {},
   "source": [
    "Si elevas las diferencias al cuadrado, obtendrás el resultado en \"dólares cuadrados\". Recibir dinero en esa divisa sería buenísimo. Pero para propósitos de nuestro ejercicio tendremos que arreglarlo."
   ]
  },
  {
   "cell_type": "markdown",
   "id": "5ef88c51",
   "metadata": {},
   "source": [
    "3. No necesitamos \"dólares cuadrados\". Para obtener dólares normales encuentra la RECM sacando la raíz cuadrada del ECM. Imprime en la pantalla los resultados como se muestra: \n",
    "\n",
    "RMSE: ...\n",
    "\n",
    "Para encontrar la raíz cuadrada de un número usa el operador de exponente **. Eleva el número a la potencia 0.5. Por ejemplo: \n",
    "\n",
    "print(25 ** 0.5)\n",
    "\n",
    "5"
   ]
  },
  {
   "cell_type": "code",
   "execution_count": null,
   "id": "5dba7766",
   "metadata": {},
   "outputs": [],
   "source": [
    "import pandas as pd\n",
    "from sklearn.metrics import mean_squared_error\n",
    "\n",
    "df = pd.read_csv('/datasets/train_data_us.csv')\n",
    "\n",
    "features = df.drop(['last_price'], axis=1)\n",
    "target = df['last_price'] / 100000\n",
    "\n",
    "predictions = pd.Series(target.mean(), index=target.index)\n",
    "mse = mean_squared_error(target, predictions)\n",
    "\n",
    "# < encuentra la raíz cuadrada de ECM  >\n",
    "rmse = mse ** 0.5\n",
    "\n",
    "\n",
    "print('RMSE:', rmse)\n",
    "\n",
    "#output: RMSE: 2.3515475488302"
   ]
  },
  {
   "cell_type": "markdown",
   "id": "cec10319",
   "metadata": {},
   "source": [
    "La RECM nos indica que, en promedio, nuestras predicciones erraron por aproximadamente 235 000 dólares (no cuadrados). Parece mucho pero es aceptable para un modelo que siempre responde con el valor medio, dado que los precios de apartamentos más caros en nuestro conjunto llegan hasta 8 millones de dólares."
   ]
  }
 ],
 "metadata": {
  "kernelspec": {
   "display_name": "machine_learning_env",
   "language": "python",
   "name": "python3"
  },
  "language_info": {
   "codemirror_mode": {
    "name": "ipython",
    "version": 3
   },
   "file_extension": ".py",
   "mimetype": "text/x-python",
   "name": "python",
   "nbconvert_exporter": "python",
   "pygments_lexer": "ipython3",
   "version": "3.12.9"
  }
 },
 "nbformat": 4,
 "nbformat_minor": 5
}
