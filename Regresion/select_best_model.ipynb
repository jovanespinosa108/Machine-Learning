{
 "cells": [
  {
   "cell_type": "markdown",
   "id": "7b13817f",
   "metadata": {},
   "source": [
    "Seleccionar el mejor modelo\n",
    "\n",
    "Hemos entrenado un árbol de decisión, un bosque aleatorio y una regresión lineal. ¿Cuál es el mejor modelo?\n",
    "\n",
    "A estas alturas, probablemente ya tengas una idea de cuál de los tres modelos de regresión funciona mejor para nuestro ejercicio. Si aún no lo tienes claro, repasa las tres lecciones anteriores y compara los valores del RMSE para el conjunto de validación de los modelos que mejor desempeño mostraron. Escoge un modelo, configura sus hiperparámetros con valores que demostraron ser óptimos y entrénalo para una prueba final.\n",
    "\n",
    "Usa todo el dataset fuente para entrenar el modelo que escogiste. Cuantos más datos haya, mejor. Ya no necesitamos mantener separado el conjunto de validación porque ya escogimos el modelo más adecuado y ajustamos sus hiperparámetros.\n",
    "\n",
    "Ejercicio\n",
    "\n",
    "Para aprobar el ejercicio, entrena el mejor modelo con hiperparámetros óptimos en todo el dataset. Si no tienes la seguridad de cuál es el mejor, tómate la libertad de intentarlo con los tres.\n",
    "\n",
    "Algunos de los modelos que entrenamos lograron obtener valores de RECM de prueba tan bajos como 1.45. Ahora que estamos usando todo el dataset fuente para el entrenamiento podemos esperar que el desempeño del modelo mejore aún más. Intenta romper este récord: a ver si puedes bajar la RECM de prueba a menos de 1.44.\n",
    "\n",
    "No olvides dividir la variable target entre 100 000 y usar random_state=54321 como en los ejercicios anteriores.\n",
    "\n",
    "RandomForestRegressor resultó ser el mejor. Úsalo con n_estimators=40 o más."
   ]
  },
  {
   "cell_type": "code",
   "execution_count": 2,
   "id": "3a51f6b8",
   "metadata": {},
   "outputs": [
    {
     "name": "stdout",
     "output_type": "stream",
     "text": [
      "RECM final del modelo RandomForest (n_estimators=70): 0.5669\n"
     ]
    }
   ],
   "source": [
    "import pandas as pd\n",
    "from sklearn.ensemble import RandomForestRegressor\n",
    "from sklearn.metrics import mean_squared_error\n",
    "# importa el modelo que escogiste desde este módulo\n",
    "\n",
    "df = pd.read_csv('moved_train_data_us.csv')\n",
    "\n",
    "# inicializa las variables\n",
    "features = df.drop(['last_price'], axis=1)\n",
    "target = df['last_price'] / 100000\n",
    "\n",
    "final_model = RandomForestRegressor(random_state=54321, n_estimators=70)# inicializa el constructor para el modelo que tenía el mejor valor de RECM\n",
    "final_model.fit(features, target) # entrena el modelo en el conjunto de entrenamiento\n",
    "predictions = final_model.predict(features)\n",
    "result = mean_squared_error(target, predictions)**0.5# calcula la RECM en el conjunto de validación\n",
    "print(f\"RECM final del modelo RandomForest (n_estimators=70): {result:.4f}\")\n",
    "        "
   ]
  },
  {
   "cell_type": "markdown",
   "id": "903ad0fb",
   "metadata": {},
   "source": [
    "En efecto, sí hay una pequeña mejoría gracias a que usaste un poco más de datos para el entrenamiento. Y este resultado se puede mejorar más si usas más estimadores, aunque no por mucho.\n",
    "\n",
    "¿Por qué ganó este modelo específico con estos hiperparámetros específicos? ¡Buena pregunta! Pero no tiene respuesta. A veces solo necesitas dar vueltas entre diferentes opciones, revisar los resultados y escoger el mejor modelo."
   ]
  },
  {
   "cell_type": "markdown",
   "id": "5deab115",
   "metadata": {},
   "source": [
    "Conclusión\n",
    "\n",
    "Ahora sabes:\n",
    "\n",
    "- Entrenar un árbol de decisión, un bosque aleatorio y un modelo de regresión lineal para tareas de regresión;\n",
    "- Calcular el ECM;\n",
    "- Comparar la calidad de modelos de regresión.\n",
    "\n",
    "Hiciste tu investigación y preparaste un prototipo para resolver el ejercicio. No hemos logrado obtener cero errores, pero no te preocupes, esto es prácticamente imposible en el aprendizaje automático. Ahora sigue el proyecto."
   ]
  }
 ],
 "metadata": {
  "kernelspec": {
   "display_name": "machine_learning_env",
   "language": "python",
   "name": "python3"
  },
  "language_info": {
   "codemirror_mode": {
    "name": "ipython",
    "version": 3
   },
   "file_extension": ".py",
   "mimetype": "text/x-python",
   "name": "python",
   "nbconvert_exporter": "python",
   "pygments_lexer": "ipython3",
   "version": "3.12.9"
  }
 },
 "nbformat": 4,
 "nbformat_minor": 5
}
